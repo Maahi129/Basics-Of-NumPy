{
 "cells": [
  {
   "cell_type": "markdown",
   "id": "fea23be6",
   "metadata": {},
   "source": [
    "# BASICS OF NUMPY"
   ]
  },
  {
   "cell_type": "markdown",
   "id": "4d6f2966",
   "metadata": {},
   "source": [
    "## INTRODUCTION\n",
    "\n",
    "\n",
    "* NumPy is a Python library.\n",
    "\n",
    "* NumPy is used for working with arrays.\n",
    "\n",
    "* NumPy is short for \"Numerical Python\".\n",
    "\n",
    "* Numpy is used to perform a wide variety of mathematical operations on arrays."
   ]
  },
  {
   "cell_type": "markdown",
   "id": "e73d76da",
   "metadata": {},
   "source": [
    "## INSTALLATION OF NUMPY\n",
    "\n",
    "If you have Python and PIP already installed on a system, then installation of NumPy is very easy.\n",
    "\n",
    "Install it using this command: <b> pip install numpy. <b>"
   ]
  },
  {
   "cell_type": "markdown",
   "id": "f64231a3",
   "metadata": {},
   "source": [
    "## Importing NumPy\n",
    "\n",
    "Once NumPy is installed, import it in your applications by adding the import keyword like : <b> import numpy <b>"
   ]
  },
  {
   "cell_type": "code",
   "execution_count": 4,
   "id": "8671357a",
   "metadata": {},
   "outputs": [],
   "source": [
    "import numpy as np"
   ]
  },
  {
   "cell_type": "code",
   "execution_count": 49,
   "id": "c2454bc4",
   "metadata": {},
   "outputs": [
    {
     "name": "stdout",
     "output_type": "stream",
     "text": [
      "1.20.3\n",
      "3\n",
      "(2, 2, 4)\n",
      "16\n",
      "int32\n",
      "4\n",
      "<class 'numpy.ndarray'>\n"
     ]
    }
   ],
   "source": [
    "#some basic commands in numpy as shown below\n",
    "\n",
    "print(np.__version__)                                          #To see which version you have installed\n",
    "\n",
    "arr = np.array([[[1, 2, 3, 4],\n",
    "                [5 ,6, 7, 8]],                                  #Creating an array\n",
    "              \n",
    "               [[1, 2, 3, 4],\n",
    "                [5 ,6, 7, 8]]]\n",
    "              )                            \n",
    "\n",
    "print(arr.ndim)                                                #To find the number of dimensions of the array\n",
    "\n",
    "print(arr.shape)                                               #To find shape of your array\n",
    "\n",
    "print(arr.size)                                                #To find total number of elements in your array\n",
    "\n",
    "print(arr.dtype)                                               #To find which data type it is\n",
    "\n",
    "print(arr.itemsize)                                            #Size in bytes of each element\n",
    "\n",
    "print(type(a))                                                 \n"
   ]
  },
  {
   "cell_type": "markdown",
   "id": "1ab05322",
   "metadata": {},
   "source": [
    "<b> DIFFERENCE BETWEEN 2-D AND 3-D ARRAYS <b>\n",
    "   \n",
    "<b>2-D ARRAY<b>\n",
    "    \n",
    "   Creating 2-d array with two arrays. For example:\n",
    "    \n",
    "   np.array([[1,2,3], [4,5,6]])\n",
    "    \n",
    "<b>3-D ARRAY<b>\n",
    "    \n",
    " An array that 2-D array elements is called 3-D ARRAY. For example:\n",
    "    \n",
    " np.array([[[1, 2, 3], [4, 5, 6]],\n",
    "     [[1, 2, 3], [4, 5, 6]]])\n",
    "    "
   ]
  },
  {
   "cell_type": "markdown",
   "id": "ddbc4a24",
   "metadata": {},
   "source": [
    "### INDEXING (ACCESING ARRAY ELEMENTS)\n",
    "\n"
   ]
  },
  {
   "cell_type": "code",
   "execution_count": 23,
   "id": "81ea942f",
   "metadata": {},
   "outputs": [
    {
     "name": "stdout",
     "output_type": "stream",
     "text": [
      "7\n",
      "5th element on 2nd row:  10\n",
      "3rd element on 2nd row of first 2-d array:  6\n",
      "Last element from 2nd dim:  10\n"
     ]
    }
   ],
   "source": [
    "arr = np.array([1, 2, 3, 4])\n",
    "\n",
    "print(arr[2] + arr[3])                                                      #Adding last two elements in an array\n",
    "\n",
    "arr1 = np.array([[1,2,3,4,5], [6,7,8,9,10]])                                #Since, It is an 2-D array\n",
    "\n",
    "print('5th element on 2nd row: ', arr1[1, 4])\n",
    "\n",
    "arr2 = np.array([[[1, 2, 3], [4, 5, 6]], [[7, 8, 9], [10, 11, 12]]])        #Since, It is an 3-D array\n",
    "\n",
    "print('3rd element on 2nd row of first 2-d array: ',arr2[0, 1, 2])\n",
    "\n",
    "arr3 = np.array([[1,2,3,4,5], [6,7,8,9,10]])                                #Negative inedexing will start from back side of array\n",
    "\n",
    "print('Last element from 2nd dim: ', arr3[1, -1])\n",
    "\n",
    "\n"
   ]
  },
  {
   "cell_type": "markdown",
   "id": "efbe97f7",
   "metadata": {},
   "source": [
    "### CREATIND ARRAYS WITH ZEROS, ONES, EMPTY, NORMAL  AND  ARANGE"
   ]
  },
  {
   "cell_type": "code",
   "execution_count": 91,
   "id": "fa2aba47",
   "metadata": {},
   "outputs": [
    {
     "name": "stdout",
     "output_type": "stream",
     "text": [
      "[[0.+0.j 0.+0.j 0.+0.j]\n",
      " [0.+0.j 0.+0.j 0.+0.j]]\n",
      "-------------------------------\n",
      "[[1. 1. 1.]\n",
      " [1. 1. 1.]]\n",
      "-------------------------------\n",
      "[inf inf]\n",
      "-------------------------------\n",
      "[1 3 5 7 9]\n",
      "-------------------------------\n",
      "[[1. 0. 0.]\n",
      " [0. 1. 0.]\n",
      " [0. 0. 1.]]\n",
      "--------------------------------\n",
      "[ 0  1  2  3  4  5  6  7  8  9 10 11 12 13 14 15 16 17 18 19 20 21 22 23\n",
      " 24 25 26 27 28 29 30 31 32 33 34 35 36 37 38 39 40 41 42 43 44 45 46 47\n",
      " 48 49 50 51 52 53 54 55 56 57 58 59 60 61 62 63 64 65 66 67 68 69 70 71\n",
      " 72 73 74 75 76 77 78 79 80 81 82 83 84 85 86 87 88 89 90 91 92 93 94 95\n",
      " 96 97 98 99]\n",
      "-------------------------------\n",
      "[[ 0.82453268  0.24126872  0.82490903]\n",
      " [ 1.53046433  0.91648177 -0.3788566 ]]\n"
     ]
    }
   ],
   "source": [
    "print(np.zeros((2,3),dtype=complex))          #Zero 2-D array\n",
    "print('-------------------------------')\n",
    "print(np.ones((2,3)))                         #ones 2-D array\n",
    "print('-------------------------------')\n",
    "print(np.empty(2))                            #empty array\n",
    "print('-------------------------------')\n",
    "print(np.arange(1,10,2))                      #(starting element,ending element,difference)\n",
    "print('-------------------------------')\n",
    "print(np.identity(3))                         #Identity Matrix\n",
    "print('--------------------------------')\n",
    "print(np.arange(100))\n",
    "print('-------------------------------')\n",
    "print(np.random.normal(size=(2, 3)))"
   ]
  },
  {
   "cell_type": "markdown",
   "id": "e0e557e3",
   "metadata": {},
   "source": [
    "### SLICING ARRAYS"
   ]
  },
  {
   "cell_type": "code",
   "execution_count": 8,
   "id": "00cd20b8",
   "metadata": {},
   "outputs": [
    {
     "name": "stdout",
     "output_type": "stream",
     "text": [
      "[2 3 4 5]\n",
      "----------\n",
      "[5 6 7]\n",
      "----------\n",
      "[1 2 3 4]\n",
      "----------\n",
      "[5 6]\n",
      "----------\n",
      "[2 4]\n",
      "----------\n",
      "[1 3 5 7]\n",
      "----------\n",
      "[[2 3 4]\n",
      " [7 8 9]]\n"
     ]
    }
   ],
   "source": [
    "arr = np.array([1, 2, 3, 4, 5, 6, 7])\n",
    "\n",
    "print(arr[1:5])                        #Slice elements from index 4 to the end of the array\n",
    "print('----------')\n",
    "print(arr[4:])                         #Slice elements from the beginning to index 4 (not included)\n",
    "print('----------')\n",
    "print(arr[:4])                         #Slice from the index 3 from the end to index 1 from the end\n",
    "print('----------')\n",
    "print(arr[-3:-1])\n",
    "print('----------')\n",
    "print(arr[1:5:2]) \n",
    "print('----------')\n",
    "print(arr[::2])                        #Slicing whole Array with difference 2\n",
    "print('----------')\n",
    "\n",
    "arr1 = np.array([[1, 2, 3, 4, 5], [6, 7, 8, 9, 10]])\n",
    "\n",
    "print(arr1[0:2, 1:4])                  #Slicing with 2-D Array"
   ]
  },
  {
   "cell_type": "code",
   "execution_count": 11,
   "id": "b4348eda",
   "metadata": {},
   "outputs": [
    {
     "data": {
      "text/plain": [
       "array([[[ 0,  1,  2,  3],\n",
       "        [ 4,  5,  6,  7],\n",
       "        [ 8,  9, 10, 11]],\n",
       "\n",
       "       [[12, 13, 14, 15],\n",
       "        [16, 17, 18, 19],\n",
       "        [20, 21, 22, 23]]])"
      ]
     },
     "execution_count": 11,
     "metadata": {},
     "output_type": "execute_result"
    }
   ],
   "source": [
    "#RESHAPING WITH ARANGE AND LINESPACE \n",
    "\n",
    "print(np.arange(12).reshape(4, 3))                        #2-D array reshaping\n",
    "print('---------------------------')\n",
    "print(np.arange(24).reshape(2, 3, 4))                     #3-D array reshaping\n",
    "print(np.linspace(0, 2, 9))                               # 9 numbers between 0 to 2\n",
    "\n"
   ]
  },
  {
   "cell_type": "code",
   "execution_count": 27,
   "id": "631f875e",
   "metadata": {},
   "outputs": [
    {
     "name": "stdout",
     "output_type": "stream",
     "text": [
      "[[3 1]\n",
      " [3 5]]\n",
      "-------------\n",
      "[[-1  1]\n",
      " [-3 -3]]\n",
      "-------------\n",
      "[[2 0]\n",
      " [0 4]]\n",
      "-------------\n",
      "[[5 4]\n",
      " [3 4]]\n",
      "-------------\n",
      "[[5 4]\n",
      " [3 4]]\n",
      "-------------\n",
      "[[ 7.3890561   1.        ]\n",
      " [20.08553692 54.59815003]]\n",
      "-------------\n",
      "[[1.41421356 0.        ]\n",
      " [1.73205081 2.        ]]\n",
      "-------------\n",
      "[[ 0  1  2  3]\n",
      " [ 4  5  6  7]\n",
      " [ 8  9 10 11]]\n",
      "-------------\n",
      "[12 15 18 21]\n",
      "-------------\n",
      "[ 6 22 38]\n",
      "-------------\n",
      "[0 4 8]\n",
      "-------------\n",
      "[[ 0  1  2  3]\n",
      " [ 4  6  8 10]\n",
      " [12 15 18 21]]\n"
     ]
    }
   ],
   "source": [
    "##Basic Operations in NumPy\n",
    "\n",
    "A = np.array([[1, 1],\n",
    "              [0, 1]])\n",
    "B = np.array([[2, 0],\n",
    "              [3, 4]])\n",
    "\n",
    "print(A+B)                          #Addition\n",
    "print('-------------')\n",
    "print(A-B)                          #Subtraction\n",
    "print('-------------')\n",
    "print(A*B)                          #Multiplication\n",
    "print('-------------')\n",
    "print(A@B)                          #Matrix Multiplication\n",
    "print('-------------')\n",
    "print(A.dot(B))                     #Another way for Matrix Multiplication\n",
    "print('-------------')\n",
    "print(np.exp(B))                    #Exponential\n",
    "print('-------------')\n",
    "print(np.sqrt(B))                   #Square Root\n",
    "\n",
    "a = np.random.rand(5)               #Creating Random Numbers\n",
    "print('-------------')\n",
    "b = np.arange(12).reshape(3, 4)\n",
    "print(b)\n",
    "print('-------------')\n",
    "print(b.sum(axis=0))                #axis 0 means: rows and axis 1 means : columns\n",
    "print('-------------')\n",
    "print(b.sum(axis=1))\n",
    "print('-------------')\n",
    "print(b.min(axis=1))\n",
    "print('-------------')\n",
    "print(b.cumsum(axis=0))\n"
   ]
  },
  {
   "cell_type": "markdown",
   "id": "bc1bbcb7",
   "metadata": {},
   "source": [
    "### JOINING,SPLITING,SEARCHING,FILTERING AND SORTING"
   ]
  },
  {
   "cell_type": "code",
   "execution_count": 47,
   "id": "6aad657e",
   "metadata": {},
   "outputs": [
    {
     "name": "stdout",
     "output_type": "stream",
     "text": [
      "[1 2 3 4 5 6]\n",
      "---------------\n",
      "[[1 2 5 6]\n",
      " [3 4 7 8]]\n",
      "---------------\n",
      "[array([[1, 2],\n",
      "       [3, 4]]), array([[5, 6],\n",
      "       [7, 8]]), array([[ 9, 10],\n",
      "       [11, 12]])]\n",
      "----------------\n",
      "(array([1, 3, 5, 7, 9], dtype=int64),)\n",
      "-----------------\n",
      "[0 1 2 9]\n",
      "-----------------\n",
      "[False False  True  True]\n",
      "[ 56 100]\n"
     ]
    }
   ],
   "source": [
    "#cONCATENATION\n",
    "\n",
    "arr1 = np.array([1, 2, 3])\n",
    "\n",
    "arr2 = np.array([4, 5, 6])\n",
    "\n",
    "arr = np.concatenate((arr1, arr2))            #Joining Two Arrays\n",
    "\n",
    "print(arr)\n",
    "print('---------------')\n",
    "\n",
    "arr4 = np.array([[1, 2], [3, 4]])\n",
    "\n",
    "arr5 = np.array([[5, 6], [7, 8]])\n",
    "\n",
    "arr6 = np.concatenate((arr4, arr5), axis=1)    #Joining along column wise\n",
    "\n",
    "print(arr6)\n",
    "\n",
    "print('---------------')\n",
    "\n",
    "\n",
    "\n",
    "#SPLITING\n",
    "\n",
    "arr7 = np.array([[1, 2], [3, 4], [5, 6], [7, 8], [9, 10], [11, 12]])    #Spliting arrays\n",
    "\n",
    "newarr = np.array_split(arr7, 3)                                        #Splting array into 3 parts\n",
    "\n",
    "print(newarr)\n",
    "print('----------------')\n",
    "\n",
    "#SEARCHING\n",
    "\n",
    "arr = np.array([1, 2, 3, 4, 5, 6, 7, 8, 9, 10])\n",
    "\n",
    "x = np.where(arr%2 == 0)                                  #Searching and returning output based on index number\n",
    "\n",
    "print(x)\n",
    "print('-----------------')\n",
    "\n",
    "\n",
    "#SORTING\n",
    "\n",
    "arr = np.array([0, 2, 9, 1])\n",
    "\n",
    "print(np.sort(arr))                                       #Sorting Numbers (Ascending Order)\n",
    "print('-----------------')\n",
    "\n",
    "\n",
    "#FILTERING\n",
    "\n",
    "\n",
    "arr = np.array([1, 36, 56, 100])\n",
    "\n",
    "filter_arr = arr > 50                                    #Checking if it  was greater thean 42 or not and returns boolean expression\n",
    "\n",
    "newarr = arr[filter_arr]                             \n",
    "\n",
    "print(filter_arr)\n",
    "print(newarr)\n"
   ]
  },
  {
   "cell_type": "code",
   "execution_count": 101,
   "id": "ea5be35c",
   "metadata": {},
   "outputs": [
    {
     "name": "stdout",
     "output_type": "stream",
     "text": [
      "[1 2 3 4 5 6 7]\n",
      "------------\n",
      "[1 2 3 4 5 6]\n",
      "------------\n",
      "[3 4]\n",
      "------------\n",
      "[1 2]\n",
      "------------\n",
      "[1 2 5 6]\n"
     ]
    }
   ],
   "source": [
    "#Set Operations\n",
    "\n",
    "#Unique\n",
    "#We can use NumPy's unique() method to find unique elements from any array.\n",
    "arr = np.array([1, 1, 1, 2, 3, 4, 5, 5, 6, 7])\n",
    "x = np.unique(arr)\n",
    "\n",
    "print(x)\n",
    "print('------------')\n",
    "\n",
    "#Union and Intersection\n",
    "\n",
    "arr1 = np.array([1, 2, 3, 4])\n",
    "arr2 = np.array([3, 4, 5, 6])\n",
    "\n",
    "newarr = np.union1d(arr1, arr2)                               #Union\n",
    "newarr1 = np.intersect1d(arr1, arr2, assume_unique=True)      #Intersection\n",
    "\n",
    "print(newarr)\n",
    "print('------------')\n",
    "print(newarr1)\n",
    "print('------------')\n",
    "\n",
    "#Set Difference  AND Symmetric Difference\n",
    "\n",
    "set1 = np.array([1, 2, 3, 4])\n",
    "set2 = np.array([3, 4, 5, 6])\n",
    "\n",
    "newarr = np.setdiff1d(set1, set2, assume_unique=True)\n",
    "print(newarr)\n",
    "print('------------')\n",
    "\n",
    "set1 = np.array([1, 2, 3, 4])\n",
    "set2 = np.array([3, 4, 5, 6])\n",
    "\n",
    "newarr = np.setxor1d(set1, set2, assume_unique=True)\n",
    "\n",
    "print(newarr)\n",
    "\n"
   ]
  },
  {
   "cell_type": "code",
   "execution_count": 106,
   "id": "b8bcdbcd",
   "metadata": {},
   "outputs": [
    {
     "name": "stdout",
     "output_type": "stream",
     "text": [
      "[6 8 10 12]\n",
      "---------------\n",
      "add is ufunc\n"
     ]
    }
   ],
   "source": [
    "#Creating Functions in NumPy\n",
    "\n",
    "def myadd(x, y):\n",
    "  return x+y\n",
    "\n",
    "myadd = np.frompyfunc(myadd, 2, 1)            #frompyfunction takes 3 args : (func, input, output)\n",
    "                                              #input  : number of input arrays\n",
    "\n",
    "print(myadd([1, 2, 3, 4], [5, 6, 7, 8]))      #output : number of output arrays\n",
    "print('---------------')\n",
    "\n",
    "\n",
    "#ufunc means Universal functions\n",
    "\n",
    "if type(np.add) == np.ufunc:                  #Checking Whether add is an Universal bulit in function or not\n",
    "  print('add is ufunc')\n",
    "else:\n",
    "  print('add is not ufunc')"
   ]
  },
  {
   "cell_type": "code",
   "execution_count": 60,
   "id": "38b790df",
   "metadata": {},
   "outputs": [
    {
     "name": "stdout",
     "output_type": "stream",
     "text": [
      "[[ 0  1  2  3]\n",
      " [10 11 12 13]\n",
      " [20 21 22 23]\n",
      " [30 31 32 33]\n",
      " [40 41 42 43]]\n",
      "-------------------\n",
      "[ 1 11 21 31 41]\n",
      "-------------------\n",
      "[[6 7 8]\n",
      " [0 6 7]]\n"
     ]
    }
   ],
   "source": [
    "#fromfunction and ...\n",
    "\n",
    "#syntax :- numpy.fromfunction(function, shape, datatype)\n",
    "\n",
    "def f(x, y):\n",
    "    return 10 * x + y\n",
    "\n",
    "a = np.fromfunction(f, (5, 4), dtype=int)                 # Creating Array with fromfunction\n",
    "print(a)\n",
    "print('-------------------')\n",
    "print(a[0:5,1])                                           #Slicing\n",
    "print('-------------------')\n",
    "\n",
    "\n",
    "\n",
    "#Threedots (...)\n",
    "\n",
    "#Create an 3-D array\n",
    "\n",
    "b = np.array([[[1,2,2],\n",
    "     [3,4,5]],\n",
    "     [[6,7,8],\n",
    "     [0,6,7]]])\n",
    "# ... is same as [1, :, :]\n",
    "print(b[1, ...])                                          "
   ]
  },
  {
   "cell_type": "code",
   "execution_count": 83,
   "id": "e029bb34",
   "metadata": {},
   "outputs": [
    {
     "name": "stdout",
     "output_type": "stream",
     "text": [
      "[  1.    25.75  50.5   75.25 100.  ]\n",
      "<built-in method flatten of numpy.ndarray object at 0x000001EB409F9F90>\n",
      "[[[1 6]\n",
      "  [3 0]]\n",
      "\n",
      " [[2 7]\n",
      "  [4 6]]\n",
      "\n",
      " [[2 8]\n",
      "  [5 7]]]\n",
      "-----------\n",
      "(3, 2, 2)\n",
      "-----------\n",
      "[[1 2 3]\n",
      " [4 5 6]\n",
      " [3 2 3]\n",
      " [0 5 6]]\n",
      "------------\n",
      "[[1 2 3 3 2 3]\n",
      " [4 5 6 0 5 6]]\n",
      "------------\n",
      "[[1 2 3 3 2 3]\n",
      " [4 5 6 0 5 6]]\n",
      "------------\n",
      "[3 2 1]\n"
     ]
    }
   ],
   "source": [
    "#Linspace , Stacking  and flipping\n",
    "\n",
    "a = np.linspace(1, 100, 5)   #Divide between numbers into 5 equal parts\n",
    "print(a)\n",
    "\n",
    "b = np.array([[[1,2,2],\n",
    "     [3,4,5]],\n",
    "     [[6,7,8],\n",
    "     [0,6,7]]])\n",
    "#Flattening array\n",
    "print(b.flatten)       # Or You Can Use Ravel\n",
    "#Transposing b Array\n",
    "print(b.T)\n",
    "print('-----------')\n",
    "#Determining the Shape of The Transposed Array\n",
    "print(b.T.shape)\n",
    "print('-----------')\n",
    "\n",
    "#Stacking Arrays\n",
    "a = np.array([[1,2,3],[4,5,6]])\n",
    "b = np.array([[3,2,3],[0,5,6]])\n",
    "\n",
    "print(np.vstack((a,b)))          #Vertical Stack (Equivalent to Row Stack)\n",
    "print('------------')\n",
    "print(np.hstack((a,b)))          #Horizantal Stack (Equivalent to Column Stack)\n",
    "print('------------')\n",
    "print(np.column_stack((a,b)))     #Column Stack\n",
    "print('------------')\n",
    "\n",
    "#Flipping\n",
    "\n",
    "c = np.flip([1,2,3])\n",
    "print(c)\n",
    "\n",
    "\n"
   ]
  },
  {
   "cell_type": "code",
   "execution_count": 87,
   "id": "42df58ce",
   "metadata": {},
   "outputs": [
    {
     "data": {
      "text/plain": [
       "array([1., 2., 3., 4., 5., 6., 7., 8.])"
      ]
     },
     "execution_count": 87,
     "metadata": {},
     "output_type": "execute_result"
    }
   ],
   "source": [
    "# Saving and Loading Files \n",
    "\n",
    "a = np.array([1, 2, 3, 4, 5, 6])\n",
    "np.save('filename', a)                    #You Can Save Files Like This\n",
    "\n",
    "a = np.load('filename.npy')               #You Can Load Files\n",
    "\n",
    "# You Can Load csv or any other files with their extension\n",
    "csv_arr = np.array([1, 2, 3, 4, 5, 6, 7, 8])\n",
    "np.savetxt('new_file.csv', csv_arr)       #Saving csv files \n",
    "np.loadtxt('new_file.csv')                #Loading csv files"
   ]
  },
  {
   "cell_type": "code",
   "execution_count": null,
   "id": "eba25c90",
   "metadata": {},
   "outputs": [],
   "source": []
  },
  {
   "cell_type": "code",
   "execution_count": null,
   "id": "17e07e8b",
   "metadata": {},
   "outputs": [],
   "source": []
  },
  {
   "cell_type": "code",
   "execution_count": null,
   "id": "1a3559dc",
   "metadata": {},
   "outputs": [],
   "source": []
  }
 ],
 "metadata": {
  "kernelspec": {
   "display_name": "Python 3 (ipykernel)",
   "language": "python",
   "name": "python3"
  },
  "language_info": {
   "codemirror_mode": {
    "name": "ipython",
    "version": 3
   },
   "file_extension": ".py",
   "mimetype": "text/x-python",
   "name": "python",
   "nbconvert_exporter": "python",
   "pygments_lexer": "ipython3",
   "version": "3.9.7"
  }
 },
 "nbformat": 4,
 "nbformat_minor": 5
}
